{
  "nbformat": 4,
  "nbformat_minor": 0,
  "metadata": {
    "colab": {
      "provenance": [],
      "authorship_tag": "ABX9TyOiQMBNOtUNq9hGBR1beG6+",
      "include_colab_link": true
    },
    "kernelspec": {
      "name": "python3",
      "display_name": "Python 3"
    },
    "language_info": {
      "name": "python"
    }
  },
  "cells": [
    {
      "cell_type": "markdown",
      "metadata": {
        "id": "view-in-github",
        "colab_type": "text"
      },
      "source": [
        "<a href=\"https://colab.research.google.com/github/SakshamTolani/ml/blob/main/23419MCA047_SVD.ipynb\" target=\"_parent\"><img src=\"https://colab.research.google.com/assets/colab-badge.svg\" alt=\"Open In Colab\"/></a>"
      ]
    },
    {
      "cell_type": "code",
      "execution_count": null,
      "metadata": {
        "id": "AMWJRbrPhP2Z"
      },
      "outputs": [],
      "source": [
        "import numpy as np\n",
        "import pandas as pd"
      ]
    },
    {
      "cell_type": "code",
      "source": [
        "def normalize_vector(v):\n",
        "    return v / np.linalg.norm(v)"
      ],
      "metadata": {
        "id": "sQy7_UeVqdNn"
      },
      "execution_count": null,
      "outputs": []
    },
    {
      "cell_type": "code",
      "source": [
        "def calcMatrix(matrix, var):\n",
        "  if var=='u':\n",
        "    B = np.dot(matrix,matrix.T)\n",
        "  elif var=='v':\n",
        "    B = np.dot(matrix.T,matrix)\n",
        "\n",
        "  eigenvalues, eigenvectors = np.linalg.eigh(B)\n",
        "  ncols = np.argsort(eigenvalues)[::-1]\n",
        "  eigenvalues = eigenvalues[ncols]\n",
        "  eigenvectors = eigenvectors[:,ncols]\n",
        "  # if var=='u':\n",
        "  #   return eigenvectors\n",
        "  # elif var=='v':\n",
        "  #   return eigenvectors\n",
        "  eigenvectors = np.array([normalize_vector(eigenvectors[:, i]) for i in range(eigenvectors.shape[1])]).T\n",
        "  return eigenvectors\n"
      ],
      "metadata": {
        "id": "cycAW6TEmW-5"
      },
      "execution_count": null,
      "outputs": []
    },
    {
      "cell_type": "code",
      "source": [
        "def calcSigma(matrix):\n",
        "  if matrix.shape[0] > matrix.shape[1]:\n",
        "    gram_matrix = np.dot(matrix.T,matrix)\n",
        "  else:\n",
        "    gram_matrix = np.dot(matrix,matrix.T)\n",
        "\n",
        "  eigenvalues, _ = np.linalg.eigh(gram_matrix)\n",
        "  ncols = np.argsort(eigenvalues)[::-1]\n",
        "  eigenvalues = eigenvalues[ncols]\n",
        "  singular_values = np.sqrt(np.abs(eigenvalues))\n",
        "  np.sort(singular_values)[::-1]\n",
        "\n",
        "  Sigma = np.zeros_like(matrix, dtype=np.float64)\n",
        "  np.fill_diagonal(Sigma, singular_values)\n",
        "\n",
        "  return Sigma\n"
      ],
      "metadata": {
        "id": "JpL6wYF5m62M"
      },
      "execution_count": null,
      "outputs": []
    },
    {
      "cell_type": "code",
      "source": [
        "A = np.array([[1,1,0],[0,1,1]])"
      ],
      "metadata": {
        "id": "Uc84v5Iilm8M"
      },
      "execution_count": null,
      "outputs": []
    },
    {
      "cell_type": "code",
      "source": [
        "U = calcMatrix(A,'u')\n",
        "V_T= calcMatrix(A,'v')\n",
        "Sigma = calcSigma(A)"
      ],
      "metadata": {
        "id": "W621eoO3nrLk"
      },
      "execution_count": null,
      "outputs": []
    },
    {
      "cell_type": "code",
      "source": [
        "U"
      ],
      "metadata": {
        "colab": {
          "base_uri": "https://localhost:8080/"
        },
        "id": "n5PDcj1Cnz-g",
        "outputId": "801572b7-baa6-49b8-b7df-08592f1eae6c"
      },
      "execution_count": null,
      "outputs": [
        {
          "output_type": "execute_result",
          "data": {
            "text/plain": [
              "array([[ 0.70710678, -0.70710678],\n",
              "       [ 0.70710678,  0.70710678]])"
            ]
          },
          "metadata": {},
          "execution_count": 73
        }
      ]
    },
    {
      "cell_type": "code",
      "source": [
        "V_T"
      ],
      "metadata": {
        "colab": {
          "base_uri": "https://localhost:8080/"
        },
        "id": "TTOsIZfRn0-_",
        "outputId": "d9f78b39-735f-4831-f5f8-6ea5764c277d"
      },
      "execution_count": null,
      "outputs": [
        {
          "output_type": "execute_result",
          "data": {
            "text/plain": [
              "array([[ 4.08248290e-01,  7.07106781e-01, -5.77350269e-01],\n",
              "       [ 8.16496581e-01,  9.71445147e-17,  5.77350269e-01],\n",
              "       [ 4.08248290e-01, -7.07106781e-01, -5.77350269e-01]])"
            ]
          },
          "metadata": {},
          "execution_count": 74
        }
      ]
    },
    {
      "cell_type": "code",
      "source": [
        "Sigma"
      ],
      "metadata": {
        "colab": {
          "base_uri": "https://localhost:8080/"
        },
        "id": "OvDezC8Tn14G",
        "outputId": "dfe67624-0ebf-4aeb-bc0e-ae1c34138bf1"
      },
      "execution_count": null,
      "outputs": [
        {
          "output_type": "execute_result",
          "data": {
            "text/plain": [
              "array([[1.73205081, 0.        , 0.        ],\n",
              "       [0.        , 1.        , 0.        ]])"
            ]
          },
          "metadata": {},
          "execution_count": 67
        }
      ]
    },
    {
      "cell_type": "code",
      "source": [
        "A_new = U@Sigma@V_T"
      ],
      "metadata": {
        "id": "rALEbF4In3HE"
      },
      "execution_count": null,
      "outputs": []
    },
    {
      "cell_type": "code",
      "source": [
        "A_new"
      ],
      "metadata": {
        "colab": {
          "base_uri": "https://localhost:8080/"
        },
        "id": "oXavzIeAoHy2",
        "outputId": "ac5873ca-a613-41be-cd92-d107bb3afd4d"
      },
      "execution_count": null,
      "outputs": [
        {
          "output_type": "execute_result",
          "data": {
            "text/plain": [
              "array([[ 2.77350098, -1.10940039, -3.32820118],\n",
              "       [-3.05085108, -5.26965186, -4.99230177]])"
            ]
          },
          "metadata": {},
          "execution_count": 57
        }
      ]
    },
    {
      "cell_type": "code",
      "source": [
        "u,s,vt = np.linalg.svd(A)"
      ],
      "metadata": {
        "id": "mP6ZOtNKoMjU"
      },
      "execution_count": null,
      "outputs": []
    },
    {
      "cell_type": "code",
      "source": [
        "vt"
      ],
      "metadata": {
        "colab": {
          "base_uri": "https://localhost:8080/"
        },
        "id": "KVgyybpYoRQM",
        "outputId": "4884ea98-6fc1-4422-a258-4100feb930af"
      },
      "execution_count": null,
      "outputs": [
        {
          "output_type": "execute_result",
          "data": {
            "text/plain": [
              "array([[ 0.26001965,  0.65919758,  0.70558368],\n",
              "       [ 0.89132415,  0.11719389, -0.43795758],\n",
              "       [ 0.37139068, -0.74278135,  0.55708601]])"
            ]
          },
          "metadata": {},
          "execution_count": 44
        }
      ]
    },
    {
      "cell_type": "code",
      "source": [],
      "metadata": {
        "id": "w7GzPM20oYR5"
      },
      "execution_count": null,
      "outputs": []
    }
  ]
}